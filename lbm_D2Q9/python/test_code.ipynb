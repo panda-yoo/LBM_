{
 "cells": [
  {
   "metadata": {
    "ExecuteTime": {
     "end_time": "2025-08-03T09:24:19.274241Z",
     "start_time": "2025-08-03T09:24:19.262881Z"
    }
   },
   "cell_type": "code",
   "source": "import datetime",
   "id": "738f416ece6b0a70",
   "outputs": [],
   "execution_count": 1
  },
  {
   "metadata": {
    "ExecuteTime": {
     "end_time": "2025-08-03T09:32:05.391877Z",
     "start_time": "2025-08-03T09:32:05.382762Z"
    }
   },
   "cell_type": "code",
   "source": "obj = datetime.datetime.now()\n",
   "id": "9a6506abdf5c5f43",
   "outputs": [],
   "execution_count": 18
  },
  {
   "metadata": {
    "ExecuteTime": {
     "end_time": "2025-08-03T09:32:28.737757Z",
     "start_time": "2025-08-03T09:32:28.733216Z"
    }
   },
   "cell_type": "code",
   "source": "obj.strftime(\"%B_%d_%Y_%I_%M_%p\")",
   "id": "81d0119b4d2a21ed",
   "outputs": [
    {
     "data": {
      "text/plain": [
       "'August_03_2025_03_02_PM'"
      ]
     },
     "execution_count": 20,
     "metadata": {},
     "output_type": "execute_result"
    }
   ],
   "execution_count": 20
  },
  {
   "metadata": {},
   "cell_type": "code",
   "outputs": [],
   "execution_count": null,
   "source": "",
   "id": "28feb60b795daec"
  }
 ],
 "metadata": {
  "kernelspec": {
   "display_name": "conda_env",
   "language": "python",
   "name": "python3"
  },
  "language_info": {
   "codemirror_mode": {
    "name": "ipython",
    "version": 3
   },
   "file_extension": ".py",
   "mimetype": "text/x-python",
   "name": "python",
   "nbconvert_exporter": "python",
   "pygments_lexer": "ipython3",
   "version": "3.11.13"
  }
 },
 "nbformat": 4,
 "nbformat_minor": 5
}
